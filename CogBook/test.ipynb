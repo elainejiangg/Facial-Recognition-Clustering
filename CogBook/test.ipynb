{
 "cells": [
  {
   "cell_type": "code",
   "execution_count": 1,
   "id": "bd314333",
   "metadata": {},
   "outputs": [],
   "source": [
    "from nodes_adj_graph import nodes_adj_graph\n",
    "from Node import plot_graph\n",
    "from whiskers import whiskers\n",
    "from whiskers import move_back\n",
    "import os"
   ]
  },
  {
   "cell_type": "code",
   "execution_count": 6,
   "id": "40903d0c",
   "metadata": {},
   "outputs": [],
   "source": [
    "# the int fed in as a parameter is the number of folders created by the last run\n",
    "move_back(15)"
   ]
  },
  {
   "cell_type": "code",
   "execution_count": 7,
   "id": "bee12076",
   "metadata": {},
   "outputs": [],
   "source": [
    "directory = r\"..\\Whiskers_Images\"\n",
    "fileList = []\n",
    "for filename in os.listdir(directory):\n",
    "    f = os.path.join(directory, filename)\n",
    "    if os.path.isfile(f):\n",
    "        fileList.append(f)\n",
    "\n",
    "fileList = fileList[1:]\n",
    "\n",
    "#print(fileList)\n",
    "        \n",
    "nodes, adj_graph = nodes_adj_graph(fileList)"
   ]
  },
  {
   "cell_type": "code",
   "execution_count": 8,
   "id": "dc066a8c",
   "metadata": {},
   "outputs": [
    {
     "name": "stdout",
     "output_type": "stream",
     "text": [
      "[39, 38, 37, 36, 35, 35, 34, 34, 33, 32, 31, 31, 31, 31, 30, 30, 30, 29, 29, 29, 28, 28, 28, 28, 28, 27, 26, 25, 25, 25, 25, 24, 23, 22, 22, 22, 21, 21, 20, 20, 20, 19, 18, 18, 18, 18, 18, 18, 18, 18, 18, 17, 17, 16, 15, 15, 14, 14, 14, 14, 14, 14, 14, 14, 14, 14, 14, 14, 13, 13, 13, 13, 13, 13, 13, 13, 13, 13, 13, 13, 13, 13, 13, 13, 13, 13, 13, 13, 13, 13, 13, 12, 12, 12, 12, 12, 12, 12, 12, 12, 12, 12, 12, 12, 12, 12, 12, 12, 12, 12, 12, 12, 12, 12, 12, 12, 12, 12, 12, 12, 12, 12, 12, 12, 12, 12, 12, 12, 12, 12, 12, 12, 12, 12, 12, 12, 11, 11, 11, 11, 10, 10, 10, 10, 10, 10, 10, 10, 10, 10, 10, 10, 10, 10, 10, 10, 10, 10, 10, 10, 10, 10, 10, 10, 10, 10, 10, 10, 10, 10, 10, 10, 10, 10, 10, 10, 10, 10, 10, 10, 10, 10, 10, 10, 10, 10, 10, 10, 10, 10, 10, 10, 10, 10, 10, 10, 10, 10, 10, 10]\n"
     ]
    },
    {
     "data": {
      "text/plain": [
       "(<Figure size 432x288 with 1 Axes>, <AxesSubplot:>)"
      ]
     },
     "execution_count": 8,
     "metadata": {},
     "output_type": "execute_result"
    },
    {
     "data": {
      "image/png": "[encoded data removed]",
      "text/plain": [
       "<Figure size 432x288 with 1 Axes>"
      ]
     },
     "metadata": {},
     "output_type": "display_data"
    }
   ],
   "source": [
    "# the int fed in as the first parameter is the number of iterations - default 200 for this image set\n",
    "whiskers(200, nodes, adj_graph)\n",
    "  \n",
    "plot_graph(nodes, adj_graph)"
   ]
  }
 ],
 "metadata": {
  "kernelspec": {
   "display_name": "Python 3 (ipykernel)",
   "language": "python",
   "name": "python3"
  },
  "language_info": {
   "codemirror_mode": {
    "name": "ipython",
    "version": 3
   },
   "file_extension": ".py",
   "mimetype": "text/x-python",
   "name": "python",
   "nbconvert_exporter": "python",
   "pygments_lexer": "ipython3",
   "version": "3.8.13"
  }
 },
 "nbformat": 4,
 "nbformat_minor": 5
}
