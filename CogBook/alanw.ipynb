{
 "cells": [
  {
   "cell_type": "code",
   "execution_count": 9,
   "id": "2d952157",
   "metadata": {},
   "outputs": [
    {
     "name": "stdout",
     "output_type": "stream",
     "text": [
      "Filename? alan_4\n"
     ]
    }
   ],
   "source": [
    "from camera import take_picture\n",
    "import skimage.io as io\n",
    "from PIL import Image\n",
    "\n",
    "pic = take_picture()\n",
    "im = Image.fromarray(pic)\n",
    "\n",
    "filename = input(\"Filename? \")\n",
    "\n",
    "im.save(f\"../Images/{filename}.jpeg\")"
   ]
  }
 ],
 "metadata": {
  "kernelspec": {
   "display_name": "Python 3 (ipykernel)",
   "language": "python",
   "name": "python3"
  },
  "language_info": {
   "codemirror_mode": {
    "name": "ipython",
    "version": 3
   },
   "file_extension": ".py",
   "mimetype": "text/x-python",
   "name": "python",
   "nbconvert_exporter": "python",
   "pygments_lexer": "ipython3",
   "version": "3.8.13"
  }
 },
 "nbformat": 4,
 "nbformat_minor": 5
}
